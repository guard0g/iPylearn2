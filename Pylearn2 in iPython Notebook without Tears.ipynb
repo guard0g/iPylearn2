{
 "metadata": {
  "name": "",
  "signature": "sha256:38b5641cc7bb61aeb02c3791cc5a4a62d00c646c3fed15f05d0a3f169dfcaef9"
 },
 "nbformat": 3,
 "nbformat_minor": 0,
 "worksheets": [
  {
   "cells": [
    {
     "cell_type": "markdown",
     "metadata": {},
     "source": [
      "# iPylearn2: Pylearn2 in iPython without YAML\n",
      "Perhaps you've just finished Andrew Ng's machine learning course or G. Hinton's neural network course. Armed with some new knowledge, you are really excited to start exploring neural networks. Unfortunately, like me, you quickly realize after searching on Google that few resources exist that actually explain how to go about building neural networks. After my recent presentation at the Nashville machine learning group, I realized just how great a desire there was by people for information on the available tools and packages used to implement various neural network architectures. With this motivation, I created this set of tutorials to hopefully explain the basics on building neural networks with iPython notebook. \n",
      "\n",
      "Pylearn2 is an excellent python library for exploring neural networks, but it typically uses YAML files heavily in implementation. My approach bypasses YAML completely and leverages the advantages of iPython Notebook.\n"
     ]
    },
    {
     "cell_type": "code",
     "collapsed": false,
     "input": [],
     "language": "python",
     "metadata": {},
     "outputs": []
    }
   ],
   "metadata": {}
  }
 ]
}